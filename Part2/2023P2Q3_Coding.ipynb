{
 "cells": [
  {
   "cell_type": "code",
   "execution_count": 4,
   "id": "b99c4d29-b207-4546-8806-86dcc8bed470",
   "metadata": {},
   "outputs": [],
   "source": [
    "#from netCDF4 import Dataset\n",
    "import cartopy.crs as ccrs\n",
    "\n",
    "import matplotlib.pyplot as plt\n",
    "import numpy as np\n",
    "import scipy.io\n"
   ]
  },
  {
   "cell_type": "markdown",
   "id": "e76af7bd-6315-499f-bf15-0635a3eb8904",
   "metadata": {},
   "source": [
    "## The following cell Loads all the data necessary for the question\n",
    "\n",
    "### All data file description\n",
    "<strong>'treecovdata.nc'</strong> contains the datastructure that can plot the world map\n",
    "\n",
    "<strong>'2023worldforestdata.mat'</strong>  contains all the past and current rainfall data (1999, 2014, 2100), as well as the past forest cover (1999). Moreover, this file also contains the latitudes and longitudes of the world map for plotting. Note: latitude and longitudes are described as (1 X N) array but in the cell below we convert it into a squeezed array\n",
    "\n",
    "<strong> worldfixedpointdata.mat </strong> file contains the hysterisis/fixedpoint data of 3 continents.\n",
    "\n",
    "The variable named <strong> fixedpointdata_xyz </strong>as a (K X 4) numpy array. 'K' represents the total number of fixed points. Each row contains the following 4 columns:\n",
    "- column 1: the amount of rainfall\n",
    "- column 2: minimum stable fixed point\n",
    "- column 3: maximum stable fixed point (if none then it contains 'Nan')\n",
    "- column 4: the unstable fixed point (if none then it contains 'Nan')"
   ]
  },
  {
   "cell_type": "code",
   "execution_count": 6,
   "id": "c6809e37-d5ac-4c4b-b81f-e2e895882bc1",
   "metadata": {},
   "outputs": [],
   "source": [
    "fname = './treecovdata.nc'\n",
    "fname_mat = './2023worldforestrainfalldata.mat'\n",
    "mat_file = scipy.io.loadmat(fname_mat)\n",
    "\n",
    "rainfall1999 = mat_file['rainfall1999']\n",
    "rainfall2014 = mat_file['rainfall2014']\n",
    "rainfall2100 = mat_file['rainfall2100']\n",
    "\n",
    "forest1999 = mat_file['forest1999']\n",
    "lats = np.squeeze(mat_file['lats'], axis=0)\n",
    "lons = np.squeeze(mat_file['lons'],axis=0)"
   ]
  },
  {
   "cell_type": "code",
   "execution_count": null,
   "id": "51c451b5-3340-4a40-84d0-bc2a846ec029",
   "metadata": {},
   "outputs": [],
   "source": [
    "fname_mat = './worldfixedpointdata.mat'\n",
    "mat_file = scipy.io.loadmat(fname_mat)\n",
    "fixedpointdata_southamerica = mat_file['fixedpointdata_southamerica']\n",
    "fixedpointdata_africa = mat_file['fixedpointdata_africa']\n",
    "fixedpointdata_aus = mat_file['fixedpointdata_aus']"
   ]
  },
  {
   "cell_type": "markdown",
   "id": "7c776834-7e6d-469e-b7df-a9ad488e1a67",
   "metadata": {},
   "source": [
    "## Above code has loaded all variables of interest into the given variables:\n",
    "\n",
    "- rainfall1999\n",
    "- rainfall2014\n",
    "- rainfall2100\n",
    "\n",
    "- forest1999\n",
    "- lats\n",
    "- lons\n",
    "- fixedpointdata_southamerica\n",
    "- fixedpointdata_africa\n",
    "- fixedpointdata_aus"
   ]
  },
  {
   "cell_type": "markdown",
   "id": "9723ebb6-ad30-4b0b-99f9-d64d4dee0a1e",
   "metadata": {},
   "source": [
    "## Plotting the equilibrium/hysterisis curve of the three continents (from fixedpointdata_XYZ variables)\n",
    "\n",
    " - stable points are denoted by circle marker\n",
    " - unstable points are denoted by (+) markers"
   ]
  },
  {
   "cell_type": "code",
   "execution_count": null,
   "id": "e5be1c44-df0b-4183-86ec-1ca2fecfb862",
   "metadata": {},
   "outputs": [],
   "source": [
    "plt.figure(figsize=(10, 3))\n",
    "for i in range(fixedpointdata_aus.shape[0]):\n",
    "    plt.subplot(1,3,1) # South america\n",
    "    plt.plot(fixedpointdata_southamerica[i,0], fixedpointdata_southamerica[i,1], 'k.')\n",
    "    plt.plot(fixedpointdata_southamerica[i,0], fixedpointdata_southamerica[i,2], 'k.')\n",
    "    plt.plot(fixedpointdata_southamerica[i,0], fixedpointdata_southamerica[i,3], 'k+')\n",
    "    plt.ylabel('tree cover (%)')\n",
    "    plt.xlabel('rainfall (mm/yr)')\n",
    "    \n",
    "    plt.subplot(1,3,2) # Africa \n",
    "    plt.plot(fixedpointdata_africa[i,0], fixedpointdata_africa[i,1], 'k.')\n",
    "    plt.plot(fixedpointdata_africa[i,0], fixedpointdata_africa[i,2], 'k.')\n",
    "    plt.plot(fixedpointdata_africa[i,0], fixedpointdata_africa[i,3], 'k+')\n",
    "    plt.xlabel('rainfall (mm/yr)')\n",
    "    \n",
    "    plt.subplot(1,3,3) # Australasia\n",
    "    plt.plot(fixedpointdata_aus[i,0], fixedpointdata_aus[i,1], 'k.')\n",
    "    plt.plot(fixedpointdata_aus[i,0], fixedpointdata_aus[i,2], 'k.')\n",
    "    plt.plot(fixedpointdata_aus[i,0], fixedpointdata_aus[i,3], 'k+')\n",
    "    plt.xlabel('rainfall (mm/yr)')"
   ]
  },
  {
   "cell_type": "markdown",
   "id": "392f4b29-b39f-4a56-a038-f111d9eaf7ef",
   "metadata": {},
   "source": [
    "## To separately compute forest cover on each continent, we are providing the coordiantes of the 3 continents. These three continents vary only in their range of longitudes while the latitudes are constant across the data."
   ]
  },
  {
   "cell_type": "code",
   "execution_count": null,
   "id": "9796d038-5f66-4e49-b8ff-8776a1b1e5f5",
   "metadata": {},
   "outputs": [],
   "source": [
    "# longitudes of southamerica, africa and australia [lower boundary value, higher boundary value]\n",
    "lons_sa = [-90, -30] # South america coordinates (longitude range)\n",
    "lons_af = [-30, 60] # African coordinates (longitude range)\n",
    "lons_au = [60, 160] # Australia coordinates (longitude range)\n",
    "\n",
    "            "
   ]
  },
  {
   "cell_type": "code",
   "execution_count": null,
   "id": "4f77148e-51cd-445e-a80a-b5b15823b99c",
   "metadata": {},
   "outputs": [],
   "source": [
    "# Here compute the forest cover in south america, given the rainfall amount at 2100 and the hysterisis/equilibrium curve fixedpointdata_southamerica\n",
    "# Place the computed forest cover in the variable named 'forest2100'\n",
    "\n",
    "\n",
    "\n",
    "\n",
    "\n",
    "\n",
    "\n",
    "\n",
    "# NOTE: for computing the forest cover of south america, ignore what happens to the rest of the world. i.e., the rest-of-the-world map forest cover can be zeros or nan values"
   ]
  },
  {
   "cell_type": "markdown",
   "id": "cf3310ed-a958-48da-b90f-2ee116ce0e18",
   "metadata": {},
   "source": [
    "## The cell below plots the forest cover in south america from the value provided in forest2100"
   ]
  },
  {
   "cell_type": "code",
   "execution_count": null,
   "id": "dd4b41f5-62a9-4233-87ef-56d608eadd2f",
   "metadata": {},
   "outputs": [],
   "source": [
    "# forest data 2100\n",
    "fig = plt.figure(figsize=(20, 20))\n",
    "ax = plt.axes(projection=ccrs.PlateCarree())\n",
    "ax.set_extent([min(lons), max(lons), min(lats) , max(lats)], crs=ccrs.PlateCarree())\n",
    "cs=plt.contourf(lons, lats, forest1999, cmap='Greens')  \n",
    "#fig.colorbar(cs)\n",
    "plt.title('forest cover in America in the year 1999 is:', fontname=\"Times New Roman\", fontweight=\"bold\")\n",
    "ax.coastlines()   \n",
    "    \n",
    "\n",
    "fig = plt.figure(figsize=(20, 20))\n",
    "ax = plt.axes(projection=ccrs.PlateCarree())\n",
    "ax.set_extent([min(lons), max(lons), min(lats) , max(lats)], crs=ccrs.PlateCarree())\n",
    "cs=plt.contourf(lons, lats, forest2100, cmap='Reds', vmin=0, vmax=80)  \n",
    "#fig.colorbar(cs)\n",
    "plt.title('forest cover in America in the year 1999 is:', fontname=\"Times New Roman\", fontweight=\"bold\")\n",
    "ax.coastlines()   "
   ]
  },
  {
   "cell_type": "code",
   "execution_count": null,
   "id": "e68e9712-17da-4578-a2dc-61fda4cbc716",
   "metadata": {},
   "outputs": [],
   "source": [
    "# Here compute the forest cover in africa, given the rainfall amount at 2100 and the hysterisis/equilibrium curve fixedpointdata_africa\n",
    "# Place the computed forest cover in the variable named 'forest2100'\n",
    "\n",
    "\n",
    "\n",
    "\n",
    "\n",
    "\n",
    "\n",
    "\n",
    "# NOTE: for computing the forest cover of africa, ignore what happens to the rest of the world. . i.e., the rest-of-the-world map forest cover can be zeros or nan values"
   ]
  },
  {
   "cell_type": "markdown",
   "id": "cc0b3bfb-986f-4d3c-b174-52cdf3fd7b8a",
   "metadata": {},
   "source": [
    "## The cell below plots the forest cover in africa from the value provided in forest2100"
   ]
  },
  {
   "cell_type": "code",
   "execution_count": null,
   "id": "96bce115-490f-439e-889d-fdaf4ebe724a",
   "metadata": {},
   "outputs": [],
   "source": [
    "# forest data 2100\n",
    "fig = plt.figure(figsize=(20, 20))\n",
    "ax = plt.axes(projection=ccrs.PlateCarree())\n",
    "ax.set_extent([min(lons), max(lons), min(lats) , max(lats)], crs=ccrs.PlateCarree())\n",
    "cs=plt.contourf(lons, lats, forest1999, cmap='Greens')  \n",
    "#fig.colorbar(cs)\n",
    "plt.title('forest cover in Africa in the year 1999 is:', fontname=\"Times New Roman\", fontweight=\"bold\")\n",
    "ax.coastlines()   \n",
    "    \n",
    "\n",
    "fig = plt.figure(figsize=(20, 20))\n",
    "ax = plt.axes(projection=ccrs.PlateCarree())\n",
    "ax.set_extent([min(lons), max(lons), min(lats) , max(lats)], crs=ccrs.PlateCarree())\n",
    "cs=plt.contourf(lons, lats, forest2100, cmap='Reds', vmin=0, vmax=80)  \n",
    "#fig.colorbar(cs)\n",
    "plt.title('forest cover in Africa in the year 1999 is:', fontname=\"Times New Roman\", fontweight=\"bold\")\n",
    "ax.coastlines()   "
   ]
  },
  {
   "cell_type": "code",
   "execution_count": null,
   "id": "33d69465-57f5-48a8-94bc-f3dda4198705",
   "metadata": {},
   "outputs": [],
   "source": [
    "# Here compute the forest cover in australia+asia (australasia), given the rainfall amount at 2100 and the hysterisis/equilibrium curve fixedpointdata_aus\n",
    "# Place the computed forest cover in the variable named 'forest2100'\n",
    "\n",
    "\n",
    "\n",
    "\n",
    "\n",
    "\n",
    "\n",
    "\n",
    "# NOTE: for computing the forest cover of australasia, ignore what happens to the rest of the world. i.e., the rest-of-the-world map forest cover can be zeros or nan values"
   ]
  },
  {
   "cell_type": "code",
   "execution_count": null,
   "id": "9a0cb171-82ec-4221-8fa5-ece393f8f1dd",
   "metadata": {},
   "outputs": [],
   "source": [
    "# forest data 2100\n",
    "fig = plt.figure(figsize=(20, 20))\n",
    "ax = plt.axes(projection=ccrs.PlateCarree())\n",
    "ax.set_extent([min(lons), max(lons), min(lats) , max(lats)], crs=ccrs.PlateCarree())\n",
    "cs=plt.contourf(lons, lats, forest1999, cmap='Greens')  \n",
    "#fig.colorbar(cs)\n",
    "plt.title('forest cover in Australasia in the year 1999 is:', fontname=\"Times New Roman\", fontweight=\"bold\")\n",
    "ax.coastlines()   \n",
    "    \n",
    "\n",
    "fig = plt.figure(figsize=(20, 20))\n",
    "ax = plt.axes(projection=ccrs.PlateCarree())\n",
    "ax.set_extent([min(lons), max(lons), min(lats) , max(lats)], crs=ccrs.PlateCarree())\n",
    "cs=plt.contourf(lons, lats, forest2100, cmap='Reds', vmin=0, vmax=80)  \n",
    "#fig.colorbar(cs)\n",
    "plt.title('forest cover in Australasia in the year 1999 is:', fontname=\"Times New Roman\", fontweight=\"bold\")\n",
    "ax.coastlines()   "
   ]
  },
  {
   "cell_type": "code",
   "execution_count": null,
   "id": "9d5ea48d-b0f5-4e09-8618-41f9360d2e1b",
   "metadata": {},
   "outputs": [],
   "source": []
  }
 ],
 "metadata": {
  "kernelspec": {
   "display_name": "Python 3.9.18 ('base')",
   "language": "python",
   "name": "python3"
  },
  "language_info": {
   "codemirror_mode": {
    "name": "ipython",
    "version": 3
   },
   "file_extension": ".py",
   "mimetype": "text/x-python",
   "name": "python",
   "nbconvert_exporter": "python",
   "pygments_lexer": "ipython3",
   "version": "3.9.18"
  },
  "vscode": {
   "interpreter": {
    "hash": "3ed289b8c0ef30bdfd3a798f8985acef2eef128f2ad4f00beb79a4ac60eddab9"
   }
  }
 },
 "nbformat": 4,
 "nbformat_minor": 5
}
